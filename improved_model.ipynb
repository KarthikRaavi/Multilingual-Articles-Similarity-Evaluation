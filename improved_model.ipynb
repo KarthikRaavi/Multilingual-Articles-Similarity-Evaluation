{
  "nbformat": 4,
  "nbformat_minor": 0,
  "metadata": {
    "colab": {
      "name": "improved_model.ipynb",
      "provenance": []
    },
    "kernelspec": {
      "name": "python3",
      "display_name": "Python 3"
    },
    "language_info": {
      "name": "python"
    }
  },
  "cells": [
    {
      "cell_type": "code",
      "source": [
        "from scipy.stats import pearsonr\n",
        "import numpy as np\n",
        "from sklearn.ensemble import RandomForestRegressor,GradientBoostingRegressor\n",
        "from sklearn.model_selection import train_test_split\n",
        "from sklearn.tree import DecisionTreeRegressor\n",
        "import pandas as pd\n",
        "\n",
        "df = pd.read_csv('realdata.csv')\n",
        "def length(a):  # This vector computes the magnitude of a vector\n",
        "    a = a*a\n",
        "    return np.sqrt(np.sum(a))\n",
        "def sigmoid(x):  # This implements the sigmoid function\n",
        "    return 1/(1+np.exp(-x))\n",
        "def bound(a):  # This function makes sure that all the predicted values are between [0,4]\n",
        "    for i in range(a.shape[0]):\n",
        "        if a[i]>4:\n",
        "            a[i] = 4\n",
        "        else:\n",
        "            if a[i]<0:\n",
        "                a[i] = 0\n",
        "    return a\n",
        "\n",
        "model = GradientBoostingRegressor(n_estimators = 250,max_depth = 3,learning_rate = 0.1)\n",
        "a1 = pd.read_csv('hi1.csv').values  # Taking the feature vectors of 1st article\n",
        "a2 = pd.read_csv('hi2.csv').values  # Taking the feature vectors of 2nd article\n",
        "a = a1*a2     # Converting 2 features into a single feature.\n",
        "y_label = (df[\"Overall\"].values)\n",
        "# Splitting the data into training and test dataset\n",
        "train_x,test_x,train_y,test_y = train_test_split(a,y_label,test_size = 0.25,shuffle = True,random_state = 42)\n",
        "model.fit(train_x,train_y) # Training the model and predicting the model \n",
        "train_pred = bound(model.predict(train_x)) # Making predictions for training and test datasets\n",
        "test_pred = bound(model.predict(test_x))\n",
        "print(\"Pearson Correlation coefficient on Training Data = \",pearsonr(train_pred,train_y)[0]) # Pearson coefficient for training data\n",
        "print(\"Pearson Correlation coefficient on Test Data = \",pearsonr(test_pred,test_y)[0]) # Pearson coefficient for test data\n",
        "print(model.n_estimators,model.max_depth,model.learning_rate)\n"
      ],
      "metadata": {
        "colab": {
          "base_uri": "https://localhost:8080/"
        },
        "id": "mAcuwh9LsWuo",
        "outputId": "84e958fd-3d4f-4992-f484-3779a5dfe079"
      },
      "execution_count": null,
      "outputs": [
        {
          "output_type": "stream",
          "name": "stdout",
          "text": [
            "Pearson Correlation coefficient on Training Data =  0.9978593467791176\n",
            "Pearson Correlation coefficient on Test Data =  0.6414739474969914\n",
            "250 3 0.1\n"
          ]
        }
      ]
    }
  ]
}